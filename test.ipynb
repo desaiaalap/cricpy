{
 "cells": [
  {
   "cell_type": "code",
   "execution_count": null,
   "id": "50049b82",
   "metadata": {},
   "outputs": [
    {
     "data": {
      "application/vnd.microsoft.datawrangler.viewer.v0+json": {
       "columns": [
        {
         "name": "index",
         "rawType": "int64",
         "type": "integer"
        },
        {
         "name": "inning",
         "rawType": "object",
         "type": "string"
        },
        {
         "name": "batting_team",
         "rawType": "object",
         "type": "string"
        },
        {
         "name": "ball",
         "rawType": "float64",
         "type": "float"
        },
        {
         "name": "batsman",
         "rawType": "object",
         "type": "string"
        },
        {
         "name": "bowler",
         "rawType": "object",
         "type": "string"
        },
        {
         "name": "runs_total",
         "rawType": "int64",
         "type": "integer"
        },
        {
         "name": "runs_batter",
         "rawType": "int64",
         "type": "integer"
        },
        {
         "name": "runs_extras",
         "rawType": "int64",
         "type": "integer"
        },
        {
         "name": "extras_type",
         "rawType": "object",
         "type": "unknown"
        },
        {
         "name": "dismissal",
         "rawType": "object",
         "type": "unknown"
        },
        {
         "name": "fielder",
         "rawType": "object",
         "type": "unknown"
        }
       ],
       "ref": "9aaefd29-8352-4474-ab3d-4da6c7587e51",
       "rows": [
        [
         "0",
         "1st innings",
         "Nepal",
         "0.1",
         "SP Khakurel",
         "Tanwir Afzal",
         "3",
         "3",
         "0",
         null,
         null,
         null
        ],
        [
         "1",
         "1st innings",
         "Nepal",
         "0.2",
         "Sagar Pun",
         "Tanwir Afzal",
         "0",
         "0",
         "0",
         null,
         null,
         null
        ],
        [
         "2",
         "1st innings",
         "Nepal",
         "0.3",
         "Sagar Pun",
         "Tanwir Afzal",
         "1",
         "1",
         "0",
         null,
         null,
         null
        ],
        [
         "3",
         "1st innings",
         "Nepal",
         "0.4",
         "SP Khakurel",
         "Tanwir Afzal",
         "0",
         "0",
         "0",
         null,
         null,
         null
        ],
        [
         "4",
         "1st innings",
         "Nepal",
         "0.5",
         "SP Khakurel",
         "Tanwir Afzal",
         "4",
         "4",
         "0",
         null,
         null,
         null
        ]
       ],
       "shape": {
        "columns": 11,
        "rows": 5
       }
      },
      "text/html": [
       "<div>\n",
       "<style scoped>\n",
       "    .dataframe tbody tr th:only-of-type {\n",
       "        vertical-align: middle;\n",
       "    }\n",
       "\n",
       "    .dataframe tbody tr th {\n",
       "        vertical-align: top;\n",
       "    }\n",
       "\n",
       "    .dataframe thead th {\n",
       "        text-align: right;\n",
       "    }\n",
       "</style>\n",
       "<table border=\"1\" class=\"dataframe\">\n",
       "  <thead>\n",
       "    <tr style=\"text-align: right;\">\n",
       "      <th></th>\n",
       "      <th>inning</th>\n",
       "      <th>batting_team</th>\n",
       "      <th>ball</th>\n",
       "      <th>batsman</th>\n",
       "      <th>bowler</th>\n",
       "      <th>runs_total</th>\n",
       "      <th>runs_batter</th>\n",
       "      <th>runs_extras</th>\n",
       "      <th>extras_type</th>\n",
       "      <th>dismissal</th>\n",
       "      <th>fielder</th>\n",
       "    </tr>\n",
       "  </thead>\n",
       "  <tbody>\n",
       "    <tr>\n",
       "      <th>0</th>\n",
       "      <td>1st innings</td>\n",
       "      <td>Nepal</td>\n",
       "      <td>0.1</td>\n",
       "      <td>SP Khakurel</td>\n",
       "      <td>Tanwir Afzal</td>\n",
       "      <td>3</td>\n",
       "      <td>3</td>\n",
       "      <td>0</td>\n",
       "      <td>None</td>\n",
       "      <td>None</td>\n",
       "      <td>None</td>\n",
       "    </tr>\n",
       "    <tr>\n",
       "      <th>1</th>\n",
       "      <td>1st innings</td>\n",
       "      <td>Nepal</td>\n",
       "      <td>0.2</td>\n",
       "      <td>Sagar Pun</td>\n",
       "      <td>Tanwir Afzal</td>\n",
       "      <td>0</td>\n",
       "      <td>0</td>\n",
       "      <td>0</td>\n",
       "      <td>None</td>\n",
       "      <td>None</td>\n",
       "      <td>None</td>\n",
       "    </tr>\n",
       "    <tr>\n",
       "      <th>2</th>\n",
       "      <td>1st innings</td>\n",
       "      <td>Nepal</td>\n",
       "      <td>0.3</td>\n",
       "      <td>Sagar Pun</td>\n",
       "      <td>Tanwir Afzal</td>\n",
       "      <td>1</td>\n",
       "      <td>1</td>\n",
       "      <td>0</td>\n",
       "      <td>None</td>\n",
       "      <td>None</td>\n",
       "      <td>None</td>\n",
       "    </tr>\n",
       "    <tr>\n",
       "      <th>3</th>\n",
       "      <td>1st innings</td>\n",
       "      <td>Nepal</td>\n",
       "      <td>0.4</td>\n",
       "      <td>SP Khakurel</td>\n",
       "      <td>Tanwir Afzal</td>\n",
       "      <td>0</td>\n",
       "      <td>0</td>\n",
       "      <td>0</td>\n",
       "      <td>None</td>\n",
       "      <td>None</td>\n",
       "      <td>None</td>\n",
       "    </tr>\n",
       "    <tr>\n",
       "      <th>4</th>\n",
       "      <td>1st innings</td>\n",
       "      <td>Nepal</td>\n",
       "      <td>0.5</td>\n",
       "      <td>SP Khakurel</td>\n",
       "      <td>Tanwir Afzal</td>\n",
       "      <td>4</td>\n",
       "      <td>4</td>\n",
       "      <td>0</td>\n",
       "      <td>None</td>\n",
       "      <td>None</td>\n",
       "      <td>None</td>\n",
       "    </tr>\n",
       "  </tbody>\n",
       "</table>\n",
       "</div>"
      ],
      "text/plain": [
       "        inning batting_team  ball      batsman        bowler  runs_total  \\\n",
       "0  1st innings        Nepal   0.1  SP Khakurel  Tanwir Afzal           3   \n",
       "1  1st innings        Nepal   0.2    Sagar Pun  Tanwir Afzal           0   \n",
       "2  1st innings        Nepal   0.3    Sagar Pun  Tanwir Afzal           1   \n",
       "3  1st innings        Nepal   0.4  SP Khakurel  Tanwir Afzal           0   \n",
       "4  1st innings        Nepal   0.5  SP Khakurel  Tanwir Afzal           4   \n",
       "\n",
       "   runs_batter  runs_extras extras_type dismissal fielder  \n",
       "0            3            0        None      None    None  \n",
       "1            0            0        None      None    None  \n",
       "2            1            0        None      None    None  \n",
       "3            0            0        None      None    None  \n",
       "4            4            0        None      None    None  "
      ]
     },
     "execution_count": 5,
     "metadata": {},
     "output_type": "execute_result"
    }
   ],
   "source": [
    "from cricpy.io.file_loader import load_yaml\n",
    "from cricpy.parsers.cricsheet_parser import parse_match\n",
    "\n",
    "match_data = load_yaml(\"/Users/aalapdesai/CricpyProject/682899.yaml\")\n",
    "df = parse_match(match_data)\n",
    "df.head()\n"
   ]
  },
  {
   "cell_type": "code",
   "execution_count": null,
   "id": "9b41f827",
   "metadata": {},
   "outputs": [
    {
     "data": {
      "text/plain": [
       "array([None, 'wides', 'legbyes'], dtype=object)"
      ]
     },
     "execution_count": 6,
     "metadata": {},
     "output_type": "execute_result"
    }
   ],
   "source": []
  },
  {
   "cell_type": "code",
   "execution_count": null,
   "id": "bb00f732",
   "metadata": {},
   "outputs": [],
   "source": []
  }
 ],
 "metadata": {
  "kernelspec": {
   "display_name": "base",
   "language": "python",
   "name": "python3"
  },
  "language_info": {
   "codemirror_mode": {
    "name": "ipython",
    "version": 3
   },
   "file_extension": ".py",
   "mimetype": "text/x-python",
   "name": "python",
   "nbconvert_exporter": "python",
   "pygments_lexer": "ipython3",
   "version": "3.12.4"
  }
 },
 "nbformat": 4,
 "nbformat_minor": 5
}
